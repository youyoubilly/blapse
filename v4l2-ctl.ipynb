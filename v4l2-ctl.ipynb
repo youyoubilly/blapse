{
 "cells": [
  {
   "cell_type": "code",
   "execution_count": 1,
   "metadata": {},
   "outputs": [
    {
     "name": "stdout",
     "output_type": "stream",
     "text": [
      "                     brightness 0x00980900 (int)    : min=0 max=255 step=1 default=128 value=135\n",
      "                       contrast 0x00980901 (int)    : min=0 max=255 step=1 default=128 value=128\n",
      "                     saturation 0x00980902 (int)    : min=0 max=255 step=1 default=128 value=128\n",
      " white_balance_temperature_auto 0x0098090c (bool)   : default=1 value=1\n",
      "                           gain 0x00980913 (int)    : min=0 max=255 step=1 default=0 value=255\n",
      "           power_line_frequency 0x00980918 (menu)   : min=0 max=2 default=2 value=2\n",
      "      white_balance_temperature 0x0098091a (int)    : min=2000 max=7500 step=1 default=4000 value=6500 flags=inactive\n",
      "                      sharpness 0x0098091b (int)    : min=0 max=255 step=1 default=128 value=128\n",
      "         backlight_compensation 0x0098091c (int)    : min=0 max=1 step=1 default=0 value=0\n",
      "                  exposure_auto 0x009a0901 (menu)   : min=0 max=3 default=3 value=3\n",
      "              exposure_absolute 0x009a0902 (int)    : min=3 max=2047 step=1 default=250 value=1250 flags=inactive\n",
      "         exposure_auto_priority 0x009a0903 (bool)   : default=0 value=1\n",
      "                   pan_absolute 0x009a0908 (int)    : min=-36000 max=36000 step=3600 default=0 value=0\n",
      "                  tilt_absolute 0x009a0909 (int)    : min=-36000 max=36000 step=3600 default=0 value=0\n",
      "                 focus_absolute 0x009a090a (int)    : min=0 max=255 step=5 default=0 value=0 flags=inactive\n",
      "                     focus_auto 0x009a090c (bool)   : default=1 value=1\n",
      "                  zoom_absolute 0x009a090d (int)    : min=100 max=400 step=1 default=100 value=100\n"
     ]
    }
   ],
   "source": [
    "!v4l2-ctl -d 0 -l"
   ]
  },
  {
   "cell_type": "code",
   "execution_count": 3,
   "metadata": {},
   "outputs": [],
   "source": [
    "!v4l2-ctl --device=0 --set-ctrl=brightness=135"
   ]
  },
  {
   "cell_type": "code",
   "execution_count": null,
   "metadata": {},
   "outputs": [],
   "source": [
    "!v4l2-ctl --device=0 --set-ctrl=contrast=128"
   ]
  },
  {
   "cell_type": "code",
   "execution_count": null,
   "metadata": {},
   "outputs": [],
   "source": [
    "!v4l2-ctl --device=0 --set-ctrl=saturation=128"
   ]
  },
  {
   "cell_type": "code",
   "execution_count": null,
   "metadata": {},
   "outputs": [],
   "source": [
    "!v4l2-ctl --device=0 --set-ctrl=focus_auto=0"
   ]
  }
 ],
 "metadata": {
  "kernelspec": {
   "display_name": "Python 3",
   "language": "python",
   "name": "python3"
  },
  "language_info": {
   "codemirror_mode": {
    "name": "ipython",
    "version": 3
   },
   "file_extension": ".py",
   "mimetype": "text/x-python",
   "name": "python",
   "nbconvert_exporter": "python",
   "pygments_lexer": "ipython3",
   "version": "3.7.3"
  }
 },
 "nbformat": 4,
 "nbformat_minor": 4
}
