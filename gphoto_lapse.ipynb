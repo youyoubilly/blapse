{
 "cells": [
  {
   "cell_type": "code",
   "execution_count": null,
   "metadata": {},
   "outputs": [],
   "source": [
    "!lsusb"
   ]
  },
  {
   "cell_type": "code",
   "execution_count": null,
   "metadata": {},
   "outputs": [],
   "source": [
    "from time import sleep\n",
    "from datetime import datetime\n",
    "from sh import gphoto2 as gp\n",
    "import signal, os, subprocess\n",
    "import os"
   ]
  },
  {
   "cell_type": "code",
   "execution_count": null,
   "metadata": {},
   "outputs": [],
   "source": [
    "# Kill the gphoto process that starts whenever we turn on the camera or reboot the raspberry pi\n",
    "def killGphoto2Process():\n",
    "    p = subprocess.Popen(['ps', '-A'], stdout=subprocess.PIPE)\n",
    "    out, err = p.communicate()\n",
    "\n",
    "    # Search for the process we want to kill\n",
    "    for line in out.splitlines():\n",
    "        if b'gvfsd-gphoto2' in line:\n",
    "            # Kill that process!\n",
    "            pid = int(line.split(None,1)[0])\n",
    "            os.kill(pid, signal.SIGKILL)\n",
    "\n",
    "picID = \"Eos5D\"\n",
    "\n",
    "clearCommand = [\"--folder\", \"/store_00010001/DCIM/100EOS5D\", \\\n",
    "                \"--delete-all-files\", \"-R\"]\n",
    "triggerCommand = [\"--trigger-capture\"]\n",
    "downloadCommand = [\"--get-all-files\"]\n",
    "\n",
    "folder_name = picID\n",
    "save_location = os.environ['HOME'] + \"/Pictures/\" + folder_name\n",
    "\n",
    "def createSaveFolder():\n",
    "    try:\n",
    "        os.makedirs(save_location)\n",
    "    except:\n",
    "        print(\"Failed to create new directory.\")\n",
    "    os.chdir(save_location)\n",
    "\n",
    "def captureImages():\n",
    "    gp(triggerCommand)\n",
    "    sleep(3)\n",
    "    gp(downloadCommand)\n",
    "    gp(clearCommand)\n",
    "    renameFiles(picID)\n",
    "    print(\".\", end=\"\")\n",
    "\n",
    "def renameFiles(ID):\n",
    "    shot_time = datetime.now().strftime(\"%Y%m%d_%H%M%S_\")\n",
    "    for filename in os.listdir(\".\"):\n",
    "        if len(filename) < 13:\n",
    "            os.rename(filename, (shot_time + ID + \".JPG\"))"
   ]
  },
  {
   "cell_type": "code",
   "execution_count": null,
   "metadata": {},
   "outputs": [],
   "source": [
    "killGphoto2Process()\n",
    "createSaveFolder()"
   ]
  },
  {
   "cell_type": "code",
   "execution_count": null,
   "metadata": {},
   "outputs": [],
   "source": [
    "captureImages()"
   ]
  },
  {
   "cell_type": "code",
   "execution_count": null,
   "metadata": {},
   "outputs": [],
   "source": [
    "while True:\n",
    "    captureImages()\n",
    "    sleep(300)"
   ]
  },
  {
   "cell_type": "code",
   "execution_count": null,
   "metadata": {},
   "outputs": [],
   "source": [
    "!zip -r -q images.zip images"
   ]
  }
 ],
 "metadata": {
  "kernelspec": {
   "display_name": "Python 3",
   "language": "python",
   "name": "python3"
  },
  "language_info": {
   "codemirror_mode": {
    "name": "ipython",
    "version": 3
   },
   "file_extension": ".py",
   "mimetype": "text/x-python",
   "name": "python",
   "nbconvert_exporter": "python",
   "pygments_lexer": "ipython3",
   "version": "3.7.3"
  }
 },
 "nbformat": 4,
 "nbformat_minor": 4
}
